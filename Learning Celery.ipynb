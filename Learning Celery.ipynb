{
 "cells": [
  {
   "cell_type": "markdown",
   "metadata": {},
   "source": [
    "### Start with the Celery Tutorials:\n",
    "\n",
    "There are a couple that reference each other(a bit confusing)\n",
    "\n",
    "#### Intro:\n",
    "http://docs.celeryproject.org/en/latest/getting-started/introduction.html#bundles\n",
    "\n",
    "https://www.youtube.com/watch?v=fg-JfZBetpM\n",
    "\n",
    "You might have trouble with:\n",
    "\n",
    "```\n",
    "$ pip install \"celery[librabbitmq]\"\n",
    "```\n",
    "It maybe only works with python2\n",
    "\n",
    "#### Basics\n",
    "Celery needs a broker (to send massages to a server) and a backend (a server to hold on to and send back the results)\n",
    "\n",
    "Using the broker is easy, but whats not clear in the tutorial, is that you need to set up the redis server first (if thats the backend you're using).  \n",
    "\n",
    "#### First steps\n",
    "http://docs.celeryproject.org/en/latest/getting-started/first-steps-with-celery.html#first-steps\n",
    "\n",
    "#### Using Redis\n",
    "\n",
    "http://docs.celeryproject.org/en/latest/getting-started/brokers/redis.html\n"
   ]
  },
  {
   "cell_type": "code",
   "execution_count": null,
   "metadata": {
    "collapsed": true
   },
   "outputs": [],
   "source": []
  }
 ],
 "metadata": {
  "kernelspec": {
   "display_name": "Python 3",
   "language": "python",
   "name": "python3"
  },
  "language_info": {
   "codemirror_mode": {
    "name": "ipython",
    "version": 3
   },
   "file_extension": ".py",
   "mimetype": "text/x-python",
   "name": "python",
   "nbconvert_exporter": "python",
   "pygments_lexer": "ipython3",
   "version": "3.5.2"
  }
 },
 "nbformat": 4,
 "nbformat_minor": 2
}
